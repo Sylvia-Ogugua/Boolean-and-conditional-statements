{
 "cells": [
  {
   "cell_type": "markdown",
   "id": "8379431d",
   "metadata": {},
   "source": [
    "# Assignment 1: the flow control and statement in Python (09-28)"
   ]
  },
  {
   "cell_type": "markdown",
   "id": "b028a61d",
   "metadata": {},
   "source": [
    "## **1.** Write a Python code to find all the numbers from the range [1000, 2000], which can be divisible by  5 and is mutiples of 3 at the same time. Use the `if` and `for` statement and the `and` operation. Put the results into a integer list."
   ]
  },
  {
   "cell_type": "code",
   "execution_count": 2,
   "id": "0a05d9fd",
   "metadata": {
    "scrolled": true
   },
   "outputs": [
    {
     "name": "stdout",
     "output_type": "stream",
     "text": [
      "[1005, 1020, 1035, 1050, 1065, 1080, 1095, 1110, 1125, 1140, 1155, 1170, 1185, 1200, 1215, 1230, 1245, 1260, 1275, 1290, 1305, 1320, 1335, 1350, 1365, 1380, 1395, 1410, 1425, 1440, 1455, 1470, 1485, 1500, 1515, 1530, 1545, 1560, 1575, 1590, 1605, 1620, 1635, 1650, 1665, 1680, 1695, 1710, 1725, 1740, 1755, 1770, 1785, 1800, 1815, 1830, 1845, 1860, 1875, 1890, 1905, 1920, 1935, 1950, 1965, 1980, 1995] "
     ]
    }
   ],
   "source": [
    "int_list = []\n",
    "\n",
    "for num in range(1000,2001):\n",
    "    if num%5 == 0 and num%3 == 0:\n",
    "        int_list.append(num)\n",
    "print(int_list , end = ' ')"
   ]
  },
  {
   "cell_type": "code",
   "execution_count": 4,
   "id": "f20e178a",
   "metadata": {},
   "outputs": [
    {
     "data": {
      "text/plain": [
       "67"
      ]
     },
     "execution_count": 4,
     "metadata": {},
     "output_type": "execute_result"
    }
   ],
   "source": [
    "len(int_list)"
   ]
  },
  {
   "cell_type": "markdown",
   "id": "5378514c",
   "metadata": {},
   "source": [
    "## **2.** Write a Python code to find all the numbers from the range [1000, 2000], which can be divisible by  7 or can be divisible by 13. Use the `if` and `for` statement and the `and` operation. Put the results into a integer list."
   ]
  },
  {
   "cell_type": "code",
   "execution_count": 3,
   "id": "44de8cb9",
   "metadata": {},
   "outputs": [
    {
     "name": "stdout",
     "output_type": "stream",
     "text": [
      "[1001, 1008, 1014, 1015, 1022, 1027, 1029, 1036, 1040, 1043, 1050, 1053, 1057, 1064, 1066, 1071, 1078, 1079, 1085, 1092, 1099, 1105, 1106, 1113, 1118, 1120, 1127, 1131, 1134, 1141, 1144, 1148, 1155, 1157, 1162, 1169, 1170, 1176, 1183, 1190, 1196, 1197, 1204, 1209, 1211, 1218, 1222, 1225, 1232, 1235, 1239, 1246, 1248, 1253, 1260, 1261, 1267, 1274, 1281, 1287, 1288, 1295, 1300, 1302, 1309, 1313, 1316, 1323, 1326, 1330, 1337, 1339, 1344, 1351, 1352, 1358, 1365, 1372, 1378, 1379, 1386, 1391, 1393, 1400, 1404, 1407, 1414, 1417, 1421, 1428, 1430, 1435, 1442, 1443, 1449, 1456, 1463, 1469, 1470, 1477, 1482, 1484, 1491, 1495, 1498, 1505, 1508, 1512, 1519, 1521, 1526, 1533, 1534, 1540, 1547, 1554, 1560, 1561, 1568, 1573, 1575, 1582, 1586, 1589, 1596, 1599, 1603, 1610, 1612, 1617, 1624, 1625, 1631, 1638, 1645, 1651, 1652, 1659, 1664, 1666, 1673, 1677, 1680, 1687, 1690, 1694, 1701, 1703, 1708, 1715, 1716, 1722, 1729, 1736, 1742, 1743, 1750, 1755, 1757, 1764, 1768, 1771, 1778, 1781, 1785, 1792, 1794, 1799, 1806, 1807, 1813, 1820, 1827, 1833, 1834, 1841, 1846, 1848, 1855, 1859, 1862, 1869, 1872, 1876, 1883, 1885, 1890, 1897, 1898, 1904, 1911, 1918, 1924, 1925, 1932, 1937, 1939, 1946, 1950, 1953, 1960, 1963, 1967, 1974, 1976, 1981, 1988, 1989, 1995] "
     ]
    }
   ],
   "source": [
    "int_list2 = []\n",
    "\n",
    "for num in range(1000,2001):\n",
    "    if num%7 == 0 or num%13 == 0:\n",
    "        int_list2.append(num)\n",
    "print(int_list2, end = ' ')"
   ]
  },
  {
   "cell_type": "code",
   "execution_count": 67,
   "id": "546ca047",
   "metadata": {},
   "outputs": [
    {
     "data": {
      "text/plain": [
       "209"
      ]
     },
     "execution_count": 67,
     "metadata": {},
     "output_type": "execute_result"
    }
   ],
   "source": [
    "len(int_list2)"
   ]
  },
  {
   "cell_type": "markdown",
   "id": "939925f1",
   "metadata": {},
   "source": [
    "## 3. Write a Python code to ask user to input 5 integer inputs using the `input()` function and `for` loop, and the store all the 5 integers into a interger list. Print the final integer list. "
   ]
  },
  {
   "cell_type": "code",
   "execution_count": 9,
   "id": "2cb4a1dc",
   "metadata": {},
   "outputs": [
    {
     "name": "stdout",
     "output_type": "stream",
     "text": [
      "Enter an integar: 23\n",
      "Enter an integar: 12\n",
      "Enter an integar: 56\n",
      "Enter an integar: 98\n",
      "Enter an integar: 446\n",
      "The list of inputs are:  [23, 12, 56, 98, 446]\n"
     ]
    }
   ],
   "source": [
    "#Create an empty list\n",
    "input_list = []\n",
    "\n",
    "#specify the maximum user inputs\n",
    "list_length = 5\n",
    "\n",
    "#request for an input for the maximum amount of times stated above then add the inputs into the list created earlier\n",
    "for num in range(list_length):\n",
    "    user_input = int(input('Enter an integar: '))\n",
    "    input_list.append(user_input)\n",
    "\n",
    "#print out the result\n",
    "print('The list of inputs are: ', input_list)"
   ]
  },
  {
   "cell_type": "markdown",
   "id": "6095a979",
   "metadata": {},
   "source": [
    "## **4.** Write a Python code with for loop to find the smallest number in a given set below. Print the smallest number"
   ]
  },
  {
   "cell_type": "code",
   "execution_count": 12,
   "id": "4a752779",
   "metadata": {},
   "outputs": [
    {
     "name": "stdout",
     "output_type": "stream",
     "text": [
      "5\n"
     ]
    }
   ],
   "source": [
    "number_list = [13, 22, 5, 17, 21, 36, 99, 101, 6]\n",
    "\n",
    "# find the smallest number in the above number_list with for loop\n",
    "for i in number_list:\n",
    "    if i == min(number_list):\n",
    "        print(i)"
   ]
  },
  {
   "cell_type": "code",
   "execution_count": 13,
   "id": "5fded618",
   "metadata": {},
   "outputs": [
    {
     "name": "stdout",
     "output_type": "stream",
     "text": [
      "5\n"
     ]
    }
   ],
   "source": [
    "# Alternatively, we can get the same results by comparing the values in the list with a big value.\n",
    "small_value = 10000\n",
    "\n",
    "for num in number_list:\n",
    "    if small_value > num:\n",
    "        small_value = num\n",
    "print(small_value)"
   ]
  },
  {
   "cell_type": "markdown",
   "id": "b323a38c",
   "metadata": {},
   "source": [
    "## **5.** Write a Python code with for loop to find the average of all the even numbers in a given list. Print the final result.\n",
    "\n",
    "### Try your code in both of the two number lists below and find a way to handle any possible errors"
   ]
  },
  {
   "cell_type": "markdown",
   "id": "c93ab887",
   "metadata": {},
   "source": [
    "- find the average of all the even numbers in the given list with for loop (e.g., result = (22 + 36 + 6)/3)\n",
    "\n",
    "- Try your codes in both `number_list` and `number_list_1`"
   ]
  },
  {
   "cell_type": "code",
   "execution_count": 21,
   "id": "e66f76fa",
   "metadata": {},
   "outputs": [],
   "source": [
    "# write your code here\n",
    "number_list = [13, 22, 5, 17, 21, 36, 99, 101, 6]"
   ]
  },
  {
   "cell_type": "code",
   "execution_count": 34,
   "id": "8c5e13ab",
   "metadata": {},
   "outputs": [
    {
     "name": "stdout",
     "output_type": "stream",
     "text": [
      "The list of even numbers is:  [22, 36, 6]\n",
      "The average is:  21.333333333333332\n"
     ]
    }
   ],
   "source": [
    "# Method 1 \n",
    "even_num_list = []\n",
    "\n",
    "for num in number_list:\n",
    "    if num%2 == 0:\n",
    "        even_num_list.append(num)\n",
    "        \n",
    "even_average = sum(even_num_list)/len(even_num_list)\n",
    "\n",
    "print('The list of even numbers is: ', even_num_list)\n",
    "print('The average is: ', even_average)"
   ]
  },
  {
   "cell_type": "code",
   "execution_count": 33,
   "id": "5d76abd4",
   "metadata": {},
   "outputs": [
    {
     "name": "stdout",
     "output_type": "stream",
     "text": [
      "The list of even numbers is :  [22, 36, 6]\n",
      "The sum of the values in the list is:  64\n"
     ]
    }
   ],
   "source": [
    "# Method 2\n",
    "even_num_sum = 0\n",
    "even_num_list = []\n",
    "\n",
    "for num in number_list:\n",
    "    if num%2 == 0:\n",
    "        even_num_sum = even_num_sum + num\n",
    "        even_num_list.append(num)\n",
    "        \n",
    "print('The list of even numbers is : ', even_num_list)\n",
    "print('The sum of the values in the list is: ', even_num_sum)"
   ]
  },
  {
   "cell_type": "code",
   "execution_count": 35,
   "id": "f3d13d74",
   "metadata": {},
   "outputs": [
    {
     "name": "stdout",
     "output_type": "stream",
     "text": [
      "The average is:  21.333333333333332\n"
     ]
    }
   ],
   "source": [
    "even_avg = even_num_sum/len(even_num_list)\n",
    "print('The average is: ', even_avg)"
   ]
  },
  {
   "cell_type": "code",
   "execution_count": 36,
   "id": "66752d61",
   "metadata": {},
   "outputs": [],
   "source": [
    "number_list_1 = [13, 15, 17, 21, 33, 29, 5]"
   ]
  },
  {
   "cell_type": "code",
   "execution_count": 42,
   "id": "9a4c4a53",
   "metadata": {},
   "outputs": [
    {
     "ename": "ZeroDivisionError",
     "evalue": "division by zero",
     "output_type": "error",
     "traceback": [
      "\u001b[0;31m---------------------------------------------------------------------------\u001b[0m",
      "\u001b[0;31mZeroDivisionError\u001b[0m                         Traceback (most recent call last)",
      "Cell \u001b[0;32mIn[42], line 7\u001b[0m\n\u001b[1;32m      4\u001b[0m     \u001b[38;5;28;01mif\u001b[39;00m num\u001b[38;5;241m%\u001b[39m\u001b[38;5;241m2\u001b[39m \u001b[38;5;241m==\u001b[39m \u001b[38;5;241m0\u001b[39m:\n\u001b[1;32m      5\u001b[0m         even_list_1\u001b[38;5;241m.\u001b[39mappend(num)\n\u001b[0;32m----> 7\u001b[0m even_avg_1 \u001b[38;5;241m=\u001b[39m \u001b[38;5;28msum\u001b[39m(even_list_1)\u001b[38;5;241m/\u001b[39m\u001b[38;5;28mlen\u001b[39m(even_list_1)\n\u001b[1;32m      9\u001b[0m \u001b[38;5;28mprint\u001b[39m(\u001b[38;5;124m'\u001b[39m\u001b[38;5;124mThe list of even numbers is: \u001b[39m\u001b[38;5;124m'\u001b[39m, even_list_1)\n\u001b[1;32m     10\u001b[0m \u001b[38;5;28mprint\u001b[39m(\u001b[38;5;124m'\u001b[39m\u001b[38;5;124mThe average is: \u001b[39m\u001b[38;5;124m'\u001b[39m, even_avg_1)\n",
      "\u001b[0;31mZeroDivisionError\u001b[0m: division by zero"
     ]
    }
   ],
   "source": [
    "# will return an error since we are only looking for even numbers in a list with none\n",
    "# since we are returning an empty list, there will be an error \n",
    "\n",
    "even_list_1 = []\n",
    "\n",
    "for num in number_list_1:\n",
    "    if num%2 == 0:\n",
    "        even_list_1.append(num)\n",
    "\n",
    "even_avg_1 = sum(even_list_1)/len(even_list_1)\n",
    "\n",
    "print('The list of even numbers is: ', even_list_1)\n",
    "print('The average is: ', even_avg_1)"
   ]
  },
  {
   "cell_type": "code",
   "execution_count": 43,
   "id": "38ef4cbc",
   "metadata": {},
   "outputs": [],
   "source": [
    "# to get rid of the zero division error, add a new statement to return only zeros if no even numbers are found\n",
    "even_list_1 = []\n",
    "\n",
    "for num in number_list_1:\n",
    "    if num%2 == 0:\n",
    "        even_list_1.append(num)\n",
    "    else:\n",
    "        even_list_1.append(0)"
   ]
  },
  {
   "cell_type": "code",
   "execution_count": 44,
   "id": "7f1781aa",
   "metadata": {},
   "outputs": [
    {
     "data": {
      "text/plain": [
       "[0, 0, 0, 0, 0, 0, 0]"
      ]
     },
     "execution_count": 44,
     "metadata": {},
     "output_type": "execute_result"
    }
   ],
   "source": [
    "even_list_1"
   ]
  },
  {
   "cell_type": "code",
   "execution_count": 45,
   "id": "3c8dc877",
   "metadata": {},
   "outputs": [
    {
     "name": "stdout",
     "output_type": "stream",
     "text": [
      "The average is:  0.0\n"
     ]
    }
   ],
   "source": [
    "even_avg_1 = sum(even_list_1)/len(even_list_1)\n",
    "print('The average is: ', even_avg_1)"
   ]
  },
  {
   "cell_type": "markdown",
   "id": "7b18299d",
   "metadata": {},
   "source": [
    "## **6.** Write a Python program to receive two integers from user input using the `input()` function, and then calculate the sum of these two integers. If the sum is larger than 100, then return 100. Otherwise, return the original value. \n",
    "\n",
    "### Try to test the accuracy of your code with different scenarios."
   ]
  },
  {
   "cell_type": "code",
   "execution_count": 47,
   "id": "3335e4fe",
   "metadata": {},
   "outputs": [
    {
     "name": "stdout",
     "output_type": "stream",
     "text": [
      "Pick a number: 34\n",
      "Pick a number: 22\n",
      "Total of both numbers is:  56\n"
     ]
    }
   ],
   "source": [
    "# write you code here\n",
    "input_sum = 0\n",
    "\n",
    "for i in range(2):\n",
    "    user_input = int(input('Pick a number: '))\n",
    "    input_sum = input_sum + user_input\n",
    "print('Total of both numbers is: ', input_sum) "
   ]
  },
  {
   "cell_type": "code",
   "execution_count": 48,
   "id": "3be0af47",
   "metadata": {},
   "outputs": [
    {
     "name": "stdout",
     "output_type": "stream",
     "text": [
      "56\n"
     ]
    }
   ],
   "source": [
    "if input_sum > 100:\n",
    "    print(100)\n",
    "else:\n",
    "    print(input_sum)"
   ]
  },
  {
   "cell_type": "code",
   "execution_count": 49,
   "id": "c23c3821",
   "metadata": {},
   "outputs": [
    {
     "name": "stdout",
     "output_type": "stream",
     "text": [
      "Pick a number: 567\n",
      "Pick a number: 456\n",
      "Total of both numbers is:  1023\n"
     ]
    }
   ],
   "source": [
    "input_sum = 0\n",
    "\n",
    "for i in range(2):\n",
    "    user_input = int(input('Pick a number: '))\n",
    "    input_sum = input_sum + user_input\n",
    "print('Total of both numbers is: ', input_sum) "
   ]
  },
  {
   "cell_type": "code",
   "execution_count": 50,
   "id": "e1c0f602",
   "metadata": {},
   "outputs": [
    {
     "name": "stdout",
     "output_type": "stream",
     "text": [
      "100\n"
     ]
    }
   ],
   "source": [
    "if input_sum > 100:\n",
    "    print(100)\n",
    "else:\n",
    "    print(input_sum)"
   ]
  },
  {
   "cell_type": "markdown",
   "id": "e03faa34",
   "metadata": {},
   "source": [
    "## **7.** Write a Python program to print the following patterns with nested for loop.\n",
    "#### *\n",
    "#### **\n",
    "#### ***\n",
    "#### ****\n",
    "#### *****\n",
    "\n"
   ]
  },
  {
   "cell_type": "code",
   "execution_count": 95,
   "id": "8fc7de6c",
   "metadata": {},
   "outputs": [
    {
     "name": "stdout",
     "output_type": "stream",
     "text": [
      "*\n",
      "**\n",
      "***\n",
      "****\n",
      "*****\n"
     ]
    }
   ],
   "source": [
    "limit = 5\n",
    "\n",
    "for i in range(limit):\n",
    "    for j in range(i+1):\n",
    "        print(\"*\", end = \"\")\n",
    "print()"
   ]
  },
  {
   "cell_type": "markdown",
   "id": "19ec4238",
   "metadata": {},
   "source": [
    "## **8.** Write a Python code to print the following number matrix with nested for loop.\n",
    "\n",
    "#### 1 2 3 4 5\n",
    "#### 6 7 8 9 10\n",
    "#### 11 12 13 14 15\n",
    "#### 16 17 18 19 20\n",
    "#### 21 22 23 24 25"
   ]
  },
  {
   "cell_type": "code",
   "execution_count": 6,
   "id": "f02ff599",
   "metadata": {},
   "outputs": [
    {
     "name": "stdout",
     "output_type": "stream",
     "text": [
      "1 2 3 4 5 \n",
      "6 7 8 9 10 \n",
      "11 12 13 14 15 \n",
      "16 17 18 19 20 \n",
      "21 22 23 24 25 \n"
     ]
    }
   ],
   "source": [
    "for i in range(1, 22 , 5):\n",
    "    for j in range (5):\n",
    "        print(i, end = ' ')\n",
    "        i = i+1\n",
    "    print()"
   ]
  },
  {
   "cell_type": "markdown",
   "id": "4612b789",
   "metadata": {},
   "source": [
    "## **9.** Given the following two number lists `num_list_a` and `num_list_b`, print the pair multiplication of all the possible combinations if the item from the first list is not equal to the item from the second list, using nested `for` loop.\n",
    "\n",
    "### For instance, the sample output should like:\n",
    "### 1*3 = 3\n",
    "### 1*6 = 6\n",
    "### 1*11 = 11\n",
    "### ......\n",
    "### a*b = c (as long as a != b)\n",
    "### ......"
   ]
  },
  {
   "cell_type": "code",
   "execution_count": 100,
   "id": "99eb55a0",
   "metadata": {},
   "outputs": [],
   "source": [
    "num_list_a = [1, 3, 6, 8, 9, 12]\n",
    "\n",
    "num_list_b = [3, 6, 11, 12, 19, 8]"
   ]
  },
  {
   "cell_type": "code",
   "execution_count": 102,
   "id": "bc0d7429",
   "metadata": {},
   "outputs": [
    {
     "name": "stdout",
     "output_type": "stream",
     "text": [
      "1 * 3 = 3\n",
      "1 * 6 = 6\n",
      "1 * 11 = 11\n",
      "1 * 12 = 12\n",
      "1 * 19 = 19\n",
      "1 * 8 = 8\n",
      "3 * 6 = 18\n",
      "3 * 11 = 33\n",
      "3 * 12 = 36\n",
      "3 * 19 = 57\n",
      "3 * 8 = 24\n",
      "6 * 3 = 18\n",
      "6 * 11 = 66\n",
      "6 * 12 = 72\n",
      "6 * 19 = 114\n",
      "6 * 8 = 48\n",
      "8 * 3 = 24\n",
      "8 * 6 = 48\n",
      "8 * 11 = 88\n",
      "8 * 12 = 96\n",
      "8 * 19 = 152\n",
      "9 * 3 = 27\n",
      "9 * 6 = 54\n",
      "9 * 11 = 99\n",
      "9 * 12 = 108\n",
      "9 * 19 = 171\n",
      "9 * 8 = 72\n",
      "12 * 3 = 36\n",
      "12 * 6 = 72\n",
      "12 * 11 = 132\n",
      "12 * 19 = 228\n",
      "12 * 8 = 96\n"
     ]
    }
   ],
   "source": [
    "for x in num_list_a:\n",
    "    for y in num_list_b:\n",
    "        if x != y:\n",
    "            print(x, '*', y, '=', x * y)"
   ]
  },
  {
   "cell_type": "markdown",
   "id": "1771a5a8",
   "metadata": {},
   "source": [
    "## **10.** Write a Python code to get all the prime numbers in the range of `[0, 100]`. Print all the prime numbers.\n",
    "\n",
    "### Tip: how to find if a number is a prime number\n",
    "### For number `a`, check if `a` is divisible by any number between `[2, a-1]`, if yes, then `a` is not a prime number. Otherwise, `a` is a prime number."
   ]
  },
  {
   "cell_type": "code",
   "execution_count": 4,
   "id": "1eaff6f3",
   "metadata": {},
   "outputs": [],
   "source": [
    "prime_list = []\n",
    "\n",
    "for i in range(0, 101):\n",
    "    if i > 1:\n",
    "        for j in range(2, i):\n",
    "            if i % j == 0: \n",
    "                break\n",
    "        else:\n",
    "            prime_list.append(i)`"
   ]
  },
  {
   "cell_type": "code",
   "execution_count": 5,
   "id": "b5707960",
   "metadata": {},
   "outputs": [
    {
     "name": "stdout",
     "output_type": "stream",
     "text": [
      "[2, 3, 5, 7, 11, 13, 17, 19, 23, 29, 31, 37, 41, 43, 47, 53, 59, 61, 67, 71, 73, 79, 83, 89, 97] "
     ]
    }
   ],
   "source": [
    "print(prime_list, end= ' ')"
   ]
  },
  {
   "cell_type": "code",
   "execution_count": null,
   "id": "b12e9391",
   "metadata": {},
   "outputs": [],
   "source": [
    "# class solution\n",
    "prime_list = []\n",
    "\n",
    "for i in range(2, 101):\n",
    "    prime_flag = True\n",
    "    for j in range(2, i):\n",
    "        if i % j == 0: \n",
    "            prime_flag = False\n",
    "   \n",
    "    if prime_flag == True:\n",
    "        prime_list.append(i)"
   ]
  },
  {
   "cell_type": "code",
   "execution_count": 3,
   "id": "05aea348",
   "metadata": {},
   "outputs": [
    {
     "name": "stdout",
     "output_type": "stream",
     "text": [
      "[2, 3, 5, 7, 11, 13, 17, 19, 23, 29, 31, 37, 41, 43, 47, 53, 59, 61, 67, 71, 73, 79, 83, 89, 97] "
     ]
    }
   ],
   "source": [
    "print(prime_list, end = ' ')"
   ]
  }
 ],
 "metadata": {
  "kernelspec": {
   "display_name": "Python 3 (ipykernel)",
   "language": "python",
   "name": "python3"
  },
  "language_info": {
   "codemirror_mode": {
    "name": "ipython",
    "version": 3
   },
   "file_extension": ".py",
   "mimetype": "text/x-python",
   "name": "python",
   "nbconvert_exporter": "python",
   "pygments_lexer": "ipython3",
   "version": "3.11.4"
  }
 },
 "nbformat": 4,
 "nbformat_minor": 5
}
